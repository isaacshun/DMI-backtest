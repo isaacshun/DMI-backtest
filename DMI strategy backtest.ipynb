{
 "cells": [
  {
   "cell_type": "code",
   "execution_count": 1,
   "metadata": {},
   "outputs": [],
   "source": [
    "import yfinance as yf\n",
    "import numpy as np\n",
    "import pandas as pd\n",
    "import datetime as dt\n",
    "from pandas_datareader import data as pdr\n",
    "import matplotlib.pyplot as plt\n",
    "\n",
    "yf.pdr_override()"
   ]
  },
  {
   "cell_type": "code",
   "execution_count": 2,
   "metadata": {},
   "outputs": [
    {
     "name": "stdout",
     "output_type": "stream",
     "text": [
      "[*********************100%***********************]  1 of 1 completed\n",
      "                  Open        High         Low       Close   Adj Close  \\\n",
      "Date                                                                     \n",
      "2020-12-14  368.640015  369.799988  364.470001  364.660004  363.112183   \n",
      "2020-12-15  367.399994  369.589996  365.920013  369.589996  368.021240   \n",
      "2020-12-16  369.820007  371.160004  368.869995  370.170013  368.598816   \n",
      "2020-12-17  371.940002  372.459991  371.049988  372.239990  370.660004   \n",
      "2020-12-18         NaN         NaN         NaN         NaN         NaN   \n",
      "\n",
      "                Volume       HighS        LowS      CloseS  \n",
      "Date                                                        \n",
      "2020-12-14  69216200.0  366.739990  363.260010  366.299988  \n",
      "2020-12-15  64071100.0  369.799988  364.470001  364.660004  \n",
      "2020-12-16  58420500.0  369.589996  365.920013  369.589996  \n",
      "2020-12-17  64119500.0  371.160004  368.869995  370.170013  \n",
      "2020-12-18         NaN  372.459991  371.049988  372.239990  \n"
     ]
    }
   ],
   "source": [
    "#get data from yahoo\n",
    "df = pdr.get_data_yahoo(\"SPY\", start = \"2019-01-01\", end = \"2020-12-18\")\n",
    "\n",
    "df['HighS'] = df['High'].shift(1)\n",
    "df['LowS'] = df['Low'].shift(1)\n",
    "df['CloseS'] = df['Close'].shift(1)\n",
    "print(df.tail())"
   ]
  },
  {
   "cell_type": "code",
   "execution_count": 3,
   "metadata": {},
   "outputs": [],
   "source": [
    "openLong = []\n",
    "openShort = []"
   ]
  },
  {
   "cell_type": "code",
   "execution_count": 4,
   "metadata": {},
   "outputs": [],
   "source": [
    "shortDate = []\n",
    "shortValue = []\n",
    "longDate = []\n",
    "longValue = []\n",
    "closeLongDate = []\n",
    "closeLongValue = []\n",
    "closeShortDate = []\n",
    "closeShortValue = []"
   ]
  },
  {
   "cell_type": "code",
   "execution_count": 5,
   "metadata": {},
   "outputs": [],
   "source": [
    "#Variables for printable data/value\n",
    "total = 0\n",
    "win = 0\n",
    "lose = 0\n",
    "profit = 0"
   ]
  },
  {
   "cell_type": "code",
   "execution_count": 6,
   "metadata": {},
   "outputs": [],
   "source": [
    "#index variable\n",
    "n = 0"
   ]
  },
  {
   "cell_type": "code",
   "execution_count": 7,
   "metadata": {},
   "outputs": [],
   "source": [
    "period = 14\n",
    "#Average True Range\n",
    "data = df.copy()\n",
    "high = data['High']\n",
    "low = data['Low']\n",
    "close = data['Close']\n",
    "data['tr0'] = abs(high - low)\n",
    "data['tr1'] = abs(high - close.shift())\n",
    "data['tr2'] = abs(low - close.shift())\n",
    "df['TR'] = data[['tr0', 'tr1', 'tr2']].max(axis = 1)\n",
    "df['ATR'] = df['TR'].ewm(span = period).mean()\n",
    "\n",
    "df['up'] = df['High'] - df['HighS']\n",
    "df['down'] = df['LowS'] - df['Low']\n",
    "\n",
    "#Directional Movement DM+\n",
    "df['DM+'] = np.where((df['up'] > df['down'])&(df['up'] > 0), df['up'], 0)\n",
    "df['DM-'] = np.where((df['down'] > df['up'])&(df['down'] > 0), df['down'], 0)\n",
    "\n",
    "#Directional Index\n",
    "df['DI+'] = ((df['DM+'] / df['ATR']).ewm(span = period).mean())*100\n",
    "df['DI-'] = ((df['DM-'] / df['ATR']).ewm(span = period).mean())*100\n",
    "\n",
    "df['rownum'] = np.arange(len(df))\n",
    "#Directional Movement Index\n",
    "df['DX'] = np.where(df['rownum']<period*2, 20, (abs((df['DI+'] - df['DI-'])/(df['DI+']+df['DI-']))*100).ewm(span = period).mean())"
   ]
  },
  {
   "cell_type": "code",
   "execution_count": 8,
   "metadata": {},
   "outputs": [],
   "source": [
    "#loop for test strategy\n",
    "for val in df['DI+']:\n",
    "    #condition for long position\n",
    "    if val > df['DI-'][n]:\n",
    "        longValue.append(df['Close'][n])\n",
    "        longDate.append(df['Close'].index[n])\n",
    "        #remember long position\n",
    "        openLong.append(df['Close'][n])\n",
    "    #condition for short position\n",
    "    if val < df['DI-'][n]:\n",
    "        shortValue.append(df['Close'][n])\n",
    "        shortDate.append(df['Close'].index[n])\n",
    "        #remember short position\n",
    "        openShort.append(df['Close'][n])\n",
    "    #condition for closing long position\n",
    "    if len(openLong) > 0 and val < df['DI-'][n]:\n",
    "        closeLongDate.append(df['Close'].index[n])\n",
    "        closeLongValue.append(df['Close'][n])\n",
    "        \n",
    "        #subtract closing price from all open long positions stored in a list\n",
    "        openLong = [df['Close'][n] - x for x in openLong]\n",
    "        profit += sum(openLong)\n",
    "        \n",
    "        #total long trade, win long trades, loss long trades\n",
    "        total += len(openLong)\n",
    "        win += len([i for i in openLong if i >= 0])\n",
    "        lose += len([i for i in openLong if i < 0])\n",
    "        \n",
    "        #empty open long trades\n",
    "        openLong = []\n",
    "    \n",
    "    #condition for closing short position\n",
    "    if len(openShort)>0 and val < df['DI+'][n]:\n",
    "        closeShortDate.append(df['Close'].index[n])\n",
    "        closeShortValue.append(df['Close'][n])\n",
    "        \n",
    "        #subtracting closing price from all open short positions in a list\n",
    "        openShort = [x-data['Close'][n] for x in openShort]\n",
    "        profit += sum(openShort)\n",
    "        \n",
    "        #total short trades, won short trades, loss short trades\n",
    "        total += len(openShort)\n",
    "        win += len([i for i in openShort if i >= 0])\n",
    "        lose += len([i for i in openShort if i < 0])\n",
    "        \n",
    "        #empty open short trades\n",
    "        openShort = []\n",
    "        \n",
    "    #index increase\n",
    "    n += 1"
   ]
  },
  {
   "cell_type": "code",
   "execution_count": 9,
   "metadata": {},
   "outputs": [
    {
     "name": "stdout",
     "output_type": "stream",
     "text": [
      "Total amount of orders executed: 337\n",
      "Number of wins: 193\n",
      "Number of losses: 144\n",
      "Hitrate: 57.27002967359051 %\n",
      "Net profit: 617.0577850341797\n"
     ]
    }
   ],
   "source": [
    "#print summary statistics\n",
    "print(f\"Total amount of orders executed: {total}\")\n",
    "print(f\"Number of wins: {win}\")\n",
    "print(f\"Number of losses: {lose}\")\n",
    "if total != 0:\n",
    "    print(\"Hitrate:\", (win/total)*100, \"%\")\n",
    "print(f\"Net profit: {profit}\")"
   ]
  },
  {
   "cell_type": "code",
   "execution_count": 10,
   "metadata": {},
   "outputs": [
    {
     "data": {
      "image/png": "[encoded data removed]",
      "text/plain": [
       "<Figure size 432x288 with 2 Axes>"
      ]
     },
     "metadata": {
      "needs_background": "light"
     },
     "output_type": "display_data"
    },
    {
     "data": {
      "text/plain": [
       "<Figure size 1512x144 with 0 Axes>"
      ]
     },
     "metadata": {},
     "output_type": "display_data"
    }
   ],
   "source": [
    "#plot graphs and markers\n",
    "\n",
    "#plot graph\n",
    "fig, axs = plt.subplots(2, gridspec_kw = {'height_ratios': [3, 1]})\n",
    "fig.suptitle('Screener')\n",
    "plt.figure(figsize = (21,2))\n",
    "\n",
    "#Main graph window\n",
    "axs[0].plot(df['Close'], color = \"g\")\n",
    "axs[0].grid()\n",
    "axs[0].set_xlim([df['Close'].index[0], df['Close'].index[len(df['Close'])-1]])\n",
    "\n",
    "#short position markers\n",
    "axs[0].plot(shortDate, shortValue, 'rv')\n",
    "\n",
    "#long position markers\n",
    "axs[0].plot(longDate, longValue, 'g^')\n",
    "\n",
    "#close long position\n",
    "axs[0].plot(closeLongDate, closeLongValue, 'gx')\n",
    "\n",
    "#close short position\n",
    "axs[0].plot(closeShortDate, closeShortValue, 'rx')\n",
    "\n",
    "#DMI\n",
    "axs[1].plot(df['DI+'])\n",
    "axs[1].plot(df['DI-'])\n",
    "axs[1].plot(df['DX'])\n",
    "axs[1].set_xlim([data['Close'].index[0], data['Close'].index[len(data['Close'])-1]])\n",
    "plt.show()"
   ]
  },
  {
   "cell_type": "code",
   "execution_count": null,
   "metadata": {},
   "outputs": [],
   "source": []
  }
 ],
 "metadata": {
  "kernelspec": {
   "display_name": "Python 3",
   "language": "python",
   "name": "python3"
  },
  "language_info": {
   "codemirror_mode": {
    "name": "ipython",
    "version": 3
   },
   "file_extension": ".py",
   "mimetype": "text/x-python",
   "name": "python",
   "nbconvert_exporter": "python",
   "pygments_lexer": "ipython3",
   "version": "3.8.5"
  }
 },
 "nbformat": 4,
 "nbformat_minor": 4
}
